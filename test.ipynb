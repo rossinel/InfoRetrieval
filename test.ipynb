{
 "cells": [
  {
   "cell_type": "code",
   "execution_count": 3,
   "metadata": {},
   "outputs": [
    {
     "name": "stdout",
     "output_type": "stream",
     "text": [
      "Data successfully saved to tv_series_metadata.db\n"
     ]
    }
   ],
   "source": [
    "import json\n",
    "import sqlite3\n",
    "\n",
    "def json_to_sqlite(json_file, sqlite_file):\n",
    "    # Load JSON data\n",
    "    with open(json_file, 'r', encoding='utf-8') as f:\n",
    "        data = json.load(f)\n",
    "    \n",
    "    # Connect to SQLite database (or create it if it doesn't exist)\n",
    "    conn = sqlite3.connect(sqlite_file)\n",
    "    cursor = conn.cursor()\n",
    "    \n",
    "    # Create a table for the TV series metadata\n",
    "    cursor.execute('''\n",
    "        CREATE TABLE IF NOT EXISTS tv_series (\n",
    "            id INTEGER PRIMARY KEY AUTOINCREMENT,\n",
    "            title TEXT,\n",
    "            year INTEGER,\n",
    "            genres TEXT,\n",
    "            directors TEXT,\n",
    "            cast TEXT,\n",
    "            rating REAL,\n",
    "            plot TEXT,\n",
    "            runtime TEXT,\n",
    "            num_episodes INTEGER\n",
    "        )\n",
    "    ''')\n",
    "    \n",
    "    # Insert JSON data into the SQLite database\n",
    "    for series in data:\n",
    "        cursor.execute('''\n",
    "            INSERT INTO tv_series (\n",
    "                title, year, genres, directors, cast, rating, plot, runtime, num_episodes\n",
    "            ) VALUES (?, ?, ?, ?, ?, ?, ?, ?, ?)\n",
    "        ''', (\n",
    "            series.get('title'),\n",
    "            series.get('year'),\n",
    "            ', '.join(series.get('genres', [])),  # Convert list to comma-separated string\n",
    "            ', '.join(series.get('directors', [])),  # Convert list to comma-separated string\n",
    "            ', '.join(series.get('cast', [])),  # Convert list to comma-separated string\n",
    "            series.get('rating'),\n",
    "            series.get('plot'),\n",
    "            ', '.join(series.get('runtime', [])),  # Convert list to comma-separated string\n",
    "            series.get('num_episodes')\n",
    "        ))\n",
    "    \n",
    "    # Commit changes and close the connection\n",
    "    conn.commit()\n",
    "    conn.close()\n",
    "    print(f\"Data successfully saved to {sqlite_file}\")\n",
    "\n",
    "# Main function\n",
    "def main():\n",
    "    json_file = 'tv_series_metadata.json'\n",
    "    sqlite_file = 'tv_series_metadata.db'\n",
    "    json_to_sqlite(json_file, sqlite_file)\n",
    "\n",
    "if __name__ == '__main__':\n",
    "    main()\n"
   ]
  },
  {
   "cell_type": "code",
   "execution_count": null,
   "metadata": {},
   "outputs": [],
   "source": []
  }
 ],
 "metadata": {
  "kernelspec": {
   "display_name": "test-env",
   "language": "python",
   "name": "python3"
  },
  "language_info": {
   "codemirror_mode": {
    "name": "ipython",
    "version": 3
   },
   "file_extension": ".py",
   "mimetype": "text/x-python",
   "name": "python",
   "nbconvert_exporter": "python",
   "pygments_lexer": "ipython3",
   "version": "3.10.14"
  }
 },
 "nbformat": 4,
 "nbformat_minor": 2
}
